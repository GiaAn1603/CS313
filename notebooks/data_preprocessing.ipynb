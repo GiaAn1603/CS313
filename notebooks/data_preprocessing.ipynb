{
 "cells": [
  {
   "cell_type": "code",
   "execution_count": 1,
   "id": "1a4d9e62",
   "metadata": {},
   "outputs": [],
   "source": [
    "import pandas as pd\n",
    "import numpy as np\n",
    "import matplotlib.pyplot as plt\n",
    "import seaborn as sns\n",
    "from datetime import datetime\n",
    "import warnings\n",
    "warnings.filterwarnings('ignore')"
   ]
  },
  {
   "cell_type": "code",
   "execution_count": 2,
   "id": "b4940bbc",
   "metadata": {},
   "outputs": [],
   "source": [
    "df = pd.read_csv('../data/ibtracs.csv')"
   ]
  },
  {
   "cell_type": "markdown",
   "id": "7047a461",
   "metadata": {},
   "source": [
    "# DATA PREPROCESSING"
   ]
  },
  {
   "cell_type": "code",
   "execution_count": 3,
   "id": "da688335",
   "metadata": {},
   "outputs": [],
   "source": [
    "KEYS = [\n",
    "  'STORM ID', 'SEASON', 'BASIN', 'SUBBASIN', 'ISO TIME', 'NATURE',\n",
    "  'LAT', 'LON',\n",
    "  'DIST2LAND', 'LANDFALL',\n",
    "  'STORM DIR', 'STORM SPEED', 'USA SSHS'\n",
    "]"
   ]
  },
  {
   "cell_type": "code",
   "execution_count": 4,
   "id": "864405dd",
   "metadata": {},
   "outputs": [],
   "source": [
    "mask = df['STORM DIR'].notna() & df['STORM SPEED'].notna()\n",
    "df = df.rename(columns={'ISO_TIME_________': 'ISO TIME'})\n",
    "df = df[mask][KEYS].copy()"
   ]
  },
  {
   "cell_type": "markdown",
   "id": "e60a6da2",
   "metadata": {},
   "source": [
    "## Features thời gian"
   ]
  },
  {
   "cell_type": "code",
   "execution_count": 5,
   "id": "f4464c46",
   "metadata": {},
   "outputs": [],
   "source": [
    "full_dates = df['ISO TIME'].str.extract(r'(\\d{4}-\\d{2}-\\d{2})')[0]\n",
    "full_dates = full_dates.ffill()\n",
    "time_only_mask = ~df['ISO TIME'].str.contains(r'\\d{4}-\\d{2}-\\d{2}', na=False)\n",
    "df.loc[time_only_mask, 'ISO TIME'] = full_dates[time_only_mask] + ' ' + df.loc[time_only_mask, 'ISO TIME']\n",
    "df['ISO TIME'] = pd.to_datetime(df['ISO TIME'])"
   ]
  },
  {
   "cell_type": "code",
   "execution_count": 6,
   "id": "60d414e0",
   "metadata": {},
   "outputs": [],
   "source": [
    "df['MONTH'] = df['ISO TIME'].dt.month\n",
    "df['HOUR'] = df['ISO TIME'].dt.hour\n",
    "df['DAY OF YEAR'] = df['ISO TIME'].dt.dayofyear\n",
    "df['TIME FROM GENESIS'] = df.groupby('STORM ID').cumcount() * 3"
   ]
  },
  {
   "cell_type": "markdown",
   "id": "24acce2a",
   "metadata": {},
   "source": [
    "## Features cho chuyển động bão"
   ]
  },
  {
   "cell_type": "code",
   "execution_count": 7,
   "id": "db01f42d",
   "metadata": {},
   "outputs": [],
   "source": [
    "rad = np.pi / 180.0\n",
    "df['MOVE X'] = df['STORM SPEED'] * np.sin(df['STORM DIR'] * rad)\n",
    "df['MOVE Y'] = df['STORM SPEED'] * np.cos(df['STORM DIR'] * rad)"
   ]
  },
  {
   "cell_type": "code",
   "execution_count": 8,
   "id": "4f34d704",
   "metadata": {},
   "outputs": [],
   "source": [
    "df['ACCELERATION'] = df.groupby('STORM ID')['STORM SPEED'].diff().fillna(0) / 3\n",
    "df['TURN RATE'] = df.groupby('STORM ID')['STORM DIR'].diff().fillna(0) / 3"
   ]
  },
  {
   "cell_type": "markdown",
   "id": "ca3efdc0",
   "metadata": {},
   "source": [
    "## Lag features cho từng cơn bão"
   ]
  },
  {
   "cell_type": "code",
   "execution_count": 9,
   "id": "76729541",
   "metadata": {},
   "outputs": [],
   "source": [
    "lags = [1, 2, 3]  # 3, 6, 9 hours ago\n",
    "for lag in lags:\n",
    "  df[f'LAT LAG {lag}'] = df.groupby('STORM ID')['LAT'].shift(lag)\n",
    "  df[f'LON LAG {lag}'] = df.groupby('STORM ID')['LON'].shift(lag)\n",
    "  df[f'SPEED LAG {lag}'] = df.groupby('STORM ID')['STORM SPEED'].shift(lag)\n",
    "  df[f'DIR LAG {lag}'] = df.groupby('STORM ID')['STORM DIR'].shift(lag)"
   ]
  },
  {
   "cell_type": "markdown",
   "id": "56b4e5bb",
   "metadata": {},
   "source": [
    "## Features cho sự thay đổi vị trí"
   ]
  },
  {
   "cell_type": "code",
   "execution_count": 10,
   "id": "d7bd3b0d",
   "metadata": {},
   "outputs": [],
   "source": [
    "df['LAT CHANGE'] = df['LAT'] - df['LAT LAG 1']\n",
    "df['LON CHANGE'] = df['LON'] - df['LON LAG 1']"
   ]
  },
  {
   "cell_type": "code",
   "execution_count": 11,
   "id": "47953736",
   "metadata": {},
   "outputs": [],
   "source": [
    "def haversine_distance(lat1, lon1, lat2, lon2):\n",
    "  R = 6371 # Earth radius in km\n",
    "  lat1, lon1, lat2, lon2 = map(np.radians, [lat1, lon1, lat2, lon2])\n",
    "  dlat = lat2 - lat1\n",
    "  dlon = lon2 - lon1\n",
    "  a = np.sin(dlat/2)**2 + np.cos(lat1) * np.cos(lat2) * np.sin(dlon/2)**2\n",
    "  return 2 * R * np.arcsin(np.sqrt(a))"
   ]
  },
  {
   "cell_type": "code",
   "execution_count": 12,
   "id": "c246ebe8",
   "metadata": {},
   "outputs": [],
   "source": [
    "df['DISTANCE'] = haversine_distance(df['LAT LAG 1'], df['LON LAG 1'], df['LAT'], df['LON'])\n",
    "df['REAL SPEED'] = df['DISTANCE'] / 3 "
   ]
  },
  {
   "cell_type": "markdown",
   "id": "87a32a09",
   "metadata": {},
   "source": [
    "## Features địa lý"
   ]
  },
  {
   "cell_type": "code",
   "execution_count": 13,
   "id": "f1562fb3",
   "metadata": {},
   "outputs": [],
   "source": [
    "df['DIST EQUATOR'] = np.abs(df['LAT'])\n",
    "df['NORTH HEMISPHERE'] = (df['LAT'] > 0).astype(int)\n",
    "df['NEAR LAND'] = (df['DIST2LAND'] < 100).astype(int)\n",
    "df['STORM SPEED NEAR LAND'] = df['STORM SPEED'] * df['NEAR LAND']"
   ]
  },
  {
   "cell_type": "markdown",
   "id": "c7af7b0c",
   "metadata": {},
   "source": [
    "## Features xu hướng"
   ]
  },
  {
   "cell_type": "code",
   "execution_count": 14,
   "id": "7c52f07a",
   "metadata": {},
   "outputs": [],
   "source": [
    "for window in [3, 6]:  # 9h and 18h\n",
    "  df[f'SPEED MEAN {window}'] = df.groupby('STORM ID')['STORM SPEED'].rolling(\n",
    "    window=window, min_periods=1\n",
    "  ).mean().reset_index(0, drop=True)\n",
    "  \n",
    "  df[f'DIR STD {window}'] = df.groupby('STORM ID')['STORM DIR'].rolling(\n",
    "    window=window, min_periods=1\n",
    "  ).std().reset_index(0, drop=True)"
   ]
  },
  {
   "cell_type": "markdown",
   "id": "94d104e0",
   "metadata": {},
   "source": [
    "## Encoding categorical variables"
   ]
  },
  {
   "cell_type": "code",
   "execution_count": 15,
   "id": "72a00919",
   "metadata": {},
   "outputs": [],
   "source": [
    "df = pd.get_dummies(df, columns=['BASIN', 'NATURE'], prefix=['BASIN', 'NATURE'])"
   ]
  },
  {
   "cell_type": "markdown",
   "id": "a5c034f8",
   "metadata": {},
   "source": [
    "## Target variables"
   ]
  },
  {
   "cell_type": "code",
   "execution_count": 16,
   "id": "4cb5e66b",
   "metadata": {},
   "outputs": [],
   "source": [
    "prediction_horizons = {'6H': 2, '12H': 4, '24H': 8}\n",
    "for horizon, steps in prediction_horizons.items():\n",
    "  df[f'NEXT LAT {horizon}'] = df.groupby('STORM ID')['LAT'].shift(-steps)\n",
    "  df[f'NEXT LON {horizon}'] = df.groupby('STORM ID')['LON'].shift(-steps)"
   ]
  },
  {
   "cell_type": "markdown",
   "id": "c6abe4a0",
   "metadata": {},
   "source": [
    "## Data cleaning"
   ]
  },
  {
   "cell_type": "code",
   "execution_count": 17,
   "id": "db9f55c8",
   "metadata": {},
   "outputs": [],
   "source": [
    "df = df.dropna()"
   ]
  },
  {
   "cell_type": "markdown",
   "id": "3c728d68",
   "metadata": {},
   "source": [
    "# Lưu file CSV"
   ]
  },
  {
   "cell_type": "code",
   "execution_count": 18,
   "id": "89390861",
   "metadata": {},
   "outputs": [],
   "source": [
    "df.to_csv('../data/ibtracs_dataset.csv', index=False)"
   ]
  }
 ],
 "metadata": {
  "kernelspec": {
   "display_name": "env",
   "language": "python",
   "name": "python3"
  },
  "language_info": {
   "codemirror_mode": {
    "name": "ipython",
    "version": 3
   },
   "file_extension": ".py",
   "mimetype": "text/x-python",
   "name": "python",
   "nbconvert_exporter": "python",
   "pygments_lexer": "ipython3",
   "version": "3.13.7"
  }
 },
 "nbformat": 4,
 "nbformat_minor": 5
}
